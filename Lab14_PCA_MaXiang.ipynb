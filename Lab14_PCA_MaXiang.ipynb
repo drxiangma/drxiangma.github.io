{
  "nbformat": 4,
  "nbformat_minor": 0,
  "metadata": {
    "colab": {
      "provenance": [],
      "authorship_tag": "ABX9TyMxqmr4JJfccuyKMrF1lyyh",
      "include_colab_link": true
    },
    "kernelspec": {
      "name": "python3",
      "display_name": "Python 3"
    },
    "language_info": {
      "name": "python"
    }
  },
  "cells": [
    {
      "cell_type": "markdown",
      "metadata": {
        "id": "view-in-github",
        "colab_type": "text"
      },
      "source": [
        "<a href=\"https://colab.research.google.com/github/drxiangma/drxiangma.github.io/blob/main/Lab14_PCA_MaXiang.ipynb\" target=\"_parent\"><img src=\"https://colab.research.google.com/assets/colab-badge.svg\" alt=\"Open In Colab\"/></a>"
      ]
    },
    {
      "cell_type": "code",
      "execution_count": 1,
      "metadata": {
        "colab": {
          "base_uri": "https://localhost:8080/"
        },
        "id": "lH907gqjEixL",
        "outputId": "a1e17667-3a66-4553-a86b-8a3487631686"
      },
      "outputs": [
        {
          "output_type": "stream",
          "name": "stdout",
          "text": [
            "Mounted at /content/drive\n"
          ]
        }
      ],
      "source": [
        "# Mount Google Drive to access files\n",
        "from google.colab import drive\n",
        "drive.mount('/content/drive')"
      ]
    },
    {
      "cell_type": "code",
      "source": [
        "import numpy as np\n",
        "import pandas as pd\n",
        "import matplotlib.pyplot as plt\n",
        "from sklearn.decomposition import PCA\n",
        "from sklearn.preprocessing import StandardScaler\n",
        "from sklearn.linear_model import LogisticRegression\n",
        "from sklearn.model_selection import train_test_split\n",
        "from sklearn.datasets import fetch_openml\n",
        "import time"
      ],
      "metadata": {
        "id": "e-jltdW1F4Y5"
      },
      "execution_count": 2,
      "outputs": []
    },
    {
      "cell_type": "code",
      "source": [
        "# Fetch the Fashion MNIST dataset\n",
        "fashion_mnist = fetch_openml('Fashion-MNIST', version=1, as_frame=True)\n",
        "data = pd.DataFrame(fashion_mnist['data'])\n",
        "target = pd.Series(fashion_mnist['target'])"
      ],
      "metadata": {
        "colab": {
          "base_uri": "https://localhost:8080/"
        },
        "id": "6xRgTO0gHLV0",
        "outputId": "5c894088-b639-4b27-f6c7-bc72c4aa1278"
      },
      "execution_count": 3,
      "outputs": [
        {
          "output_type": "stream",
          "name": "stderr",
          "text": [
            "/usr/local/lib/python3.10/dist-packages/sklearn/datasets/_openml.py:968: FutureWarning: The default value of `parser` will change from `'liac-arff'` to `'auto'` in 1.4. You can set `parser='auto'` to silence this warning. Therefore, an `ImportError` will be raised from 1.4 if the dataset is dense and pandas is not installed. Note that the pandas parser may return different data types. See the Notes Section in fetch_openml's API doc for details.\n",
            "  warn(\n"
          ]
        }
      ]
    },
    {
      "cell_type": "code",
      "source": [
        "# Visualizing the first 5 images from the dataset\n",
        "fig, axes = plt.subplots(1, 5, figsize=(15, 3))\n",
        "for i, ax in enumerate(axes):\n",
        "  ax.imshow(data.iloc[i].values.reshape(28, 28), cmap='gray')\n",
        "  ax.axis('off')\n",
        "plt.show()"
      ],
      "metadata": {
        "colab": {
          "base_uri": "https://localhost:8080/",
          "height": 237
        },
        "id": "W7vwyWk7JJBH",
        "outputId": "63176888-8308-4165-bb83-44eb4994043f"
      },
      "execution_count": 4,
      "outputs": [
        {
          "output_type": "display_data",
          "data": {
            "text/plain": [
              "<Figure size 1500x300 with 5 Axes>"
            ],
            "image/png": "[encoded data removed]"
          },
          "metadata": {}
        }
      ]
    },
    {
      "cell_type": "code",
      "source": [
        "# Convert target to integers\n",
        "target = target.astype(int)\n",
        "\n",
        "# Splitting the dataset\n",
        "X_train, X_test, y_train, y_test = train_test_split(data, target, test_size=0.2, random_state=42)\n",
        "\n",
        "# Standardizing the features\n",
        "scaler = StandardScaler()\n",
        "X_train_std = scaler.fit_transform(X_train)\n",
        "X_test_std = scaler.transform(X_test)"
      ],
      "metadata": {
        "id": "IXckg_03KUYn"
      },
      "execution_count": 6,
      "outputs": []
    },
    {
      "cell_type": "code",
      "source": [
        "# Task 2: PCA Projection to 4 Dimensions\n",
        "pca = PCA(n_components=4)\n",
        "X_train_pca = pca.fit_transform(X_train_std)\n",
        "X_test_pca = pca.transform(X_test_std)"
      ],
      "metadata": {
        "id": "uhG_cZwnLICl"
      },
      "execution_count": 7,
      "outputs": []
    },
    {
      "cell_type": "code",
      "source": [
        "# Task 3: Explained Variance Ratio\n",
        "explained_variance_ratio = pca.explained_variance_ratio_\n",
        "print('Explained variance ratio for each principal component: ')\n",
        "print(explained_variance_ratio)"
      ],
      "metadata": {
        "colab": {
          "base_uri": "https://localhost:8080/"
        },
        "id": "DiegEK0sM0V3",
        "outputId": "5fecfed2-e000-4b0a-8bd6-aeeab917633c"
      },
      "execution_count": 8,
      "outputs": [
        {
          "output_type": "stream",
          "name": "stdout",
          "text": [
            "Explained variance ratio for each principal component: \n",
            "[0.2206848  0.14361633 0.05448752 0.05104747]\n"
          ]
        }
      ]
    },
    {
      "cell_type": "code",
      "source": [
        "# Task 4: Preserving the Training Set's Variance\n",
        "target_variances = [0.25, 0.5, 0.75, 0.95]\n",
        "num_components_required = []\n",
        "cumulative_variance = 0\n",
        "for explained_variance in explained_variance_ratio:\n",
        "  cumulative_variance += explained_variance\n",
        "  #if cumulative_variance >= target_variances[0]:\n",
        "  num_components_required.append(len(num_components_required) + 1)\n",
        "  target_variances.pop(0)\n",
        "\n",
        "print('Number of components required to obtain specified varainces: ')\n",
        "#print(num_components_required)\n",
        "for var, num_comp in zip([0.25, 0.5, 0.75, 0.95], num_components_required):\n",
        "  print(f'{var*100:.0f}% variance: {num_comp}')"
      ],
      "metadata": {
        "colab": {
          "base_uri": "https://localhost:8080/"
        },
        "id": "nUO-5OxwNaiU",
        "outputId": "b140c98a-db65-44d2-f90b-4f6de30783b0"
      },
      "execution_count": 21,
      "outputs": [
        {
          "output_type": "stream",
          "name": "stdout",
          "text": [
            "Number of components required to obtain specified varainces: \n",
            "25% variance: 1\n",
            "50% variance: 2\n",
            "75% variance: 3\n",
            "95% variance: 4\n"
          ]
        }
      ]
    },
    {
      "cell_type": "code",
      "source": [
        "# Task 5: Dataset Compression Using PCA (95% variance)\n",
        "pca_95 = PCA(n_components=0.95)\n",
        "X_tain_pca_95 = pca_95.fit_transform(X_train_std)\n",
        "X_test_pca_95 = pca_95.transform(X_test_std)"
      ],
      "metadata": {
        "id": "tvE2lXdQPohZ"
      },
      "execution_count": 13,
      "outputs": []
    },
    {
      "cell_type": "code",
      "source": [
        "# Visualizing the first 5 images after PCA\n",
        "reconstructed_images = pca.inverse_transform(X_train_pca[:5])\n",
        "\n",
        "# Reshape the reconstructed images to original shape (28x28)\n",
        "reconstructed_images = reconstructed_images.reshape(-1, 28, 28)\n",
        "\n",
        "# Plot the reconstructed images\n",
        "fig, axes = plt.subplots(1, 5, figsize=(15, 3))\n",
        "for i, ax in enumerate(axes):\n",
        "    ax.imshow(reconstructed_images[i], cmap='gray')\n",
        "    ax.axis('off')\n",
        "plt.show()"
      ],
      "metadata": {
        "colab": {
          "base_uri": "https://localhost:8080/",
          "height": 237
        },
        "id": "uDGqcsMTQHop",
        "outputId": "5874336a-6014-4694-aa0a-d790f021f35b"
      },
      "execution_count": 15,
      "outputs": [
        {
          "output_type": "display_data",
          "data": {
            "text/plain": [
              "<Figure size 1500x300 with 5 Axes>"
            ],
            "image/png": "[encoded data removed]"
          },
          "metadata": {}
        }
      ]
    },
    {
      "cell_type": "code",
      "source": [
        "#Task 6: Displaying the Size of the Original and Reduced Datasets\n",
        "original_size = X_train_std.nbytes\n",
        "reduced_size = X_tain_pca_95.nbytes\n",
        "print(f\"Size of the original dataset: {original_size} bytes\")\n",
        "print(f\"Size of the reduced dataset (95% variance): {reduced_size} bytes\")"
      ],
      "metadata": {
        "colab": {
          "base_uri": "https://localhost:8080/"
        },
        "id": "UMtXnkYVQ6qZ",
        "outputId": "26726146-4461-4122-97b3-8786f24c795c"
      },
      "execution_count": 17,
      "outputs": [
        {
          "output_type": "stream",
          "name": "stdout",
          "text": [
            "Size of the original dataset: 351232000 bytes\n",
            "Size of the reduced dataset (95% variance): 114688000 bytes\n"
          ]
        }
      ]
    },
    {
      "cell_type": "code",
      "source": [
        "# Task 7: Compare Classifier Speed\n",
        "classifier = LogisticRegression(max_iter=500)\n",
        "\n",
        "start_time_original = time.time()\n",
        "classifier.fit(X_train_std, y_train)\n",
        "end_time_original = time.time()\n",
        "time_original = end_time_original - start_time_original\n",
        "\n",
        "start_time_pca = time.time()\n",
        "classifier.fit(X_tain_pca_95, y_train)\n",
        "end_time_pca = time.time()\n",
        "time_pca = end_time_pca - start_time_pca\n",
        "\n",
        "print(f\"Time taken to fit the classifier on the original dataset: {time_original:.4f} seconds\")\n",
        "print(f\"Time taken to fit the classifier on the reduced dataset (95% variance): {time_pca:.4f} seconds\")"
      ],
      "metadata": {
        "colab": {
          "base_uri": "https://localhost:8080/"
        },
        "id": "cB4EMwJ6RTLV",
        "outputId": "8b51a1d4-984c-4f39-b9d7-e83295416ebb"
      },
      "execution_count": 19,
      "outputs": [
        {
          "output_type": "stream",
          "name": "stderr",
          "text": [
            "/usr/local/lib/python3.10/dist-packages/sklearn/linear_model/_logistic.py:458: ConvergenceWarning: lbfgs failed to converge (status=1):\n",
            "STOP: TOTAL NO. of ITERATIONS REACHED LIMIT.\n",
            "\n",
            "Increase the number of iterations (max_iter) or scale the data as shown in:\n",
            "    https://scikit-learn.org/stable/modules/preprocessing.html\n",
            "Please also refer to the documentation for alternative solver options:\n",
            "    https://scikit-learn.org/stable/modules/linear_model.html#logistic-regression\n",
            "  n_iter_i = _check_optimize_result(\n"
          ]
        },
        {
          "output_type": "stream",
          "name": "stdout",
          "text": [
            "Time taken to fit the classifier on the original dataset: 102.4663 seconds\n",
            "Time taken to fit the classifier on the reduced dataset (95% variance): 40.0985 seconds\n"
          ]
        },
        {
          "output_type": "stream",
          "name": "stderr",
          "text": [
            "/usr/local/lib/python3.10/dist-packages/sklearn/linear_model/_logistic.py:458: ConvergenceWarning: lbfgs failed to converge (status=1):\n",
            "STOP: TOTAL NO. of ITERATIONS REACHED LIMIT.\n",
            "\n",
            "Increase the number of iterations (max_iter) or scale the data as shown in:\n",
            "    https://scikit-learn.org/stable/modules/preprocessing.html\n",
            "Please also refer to the documentation for alternative solver options:\n",
            "    https://scikit-learn.org/stable/modules/linear_model.html#logistic-regression\n",
            "  n_iter_i = _check_optimize_result(\n"
          ]
        }
      ]
    }
  ]
}